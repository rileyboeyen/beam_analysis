{
 "cells": [
  {
   "cell_type": "code",
   "execution_count": 1,
   "metadata": {},
   "outputs": [
    {
     "name": "stdout",
     "output_type": "stream",
     "text": [
      "HELLO\n"
     ]
    }
   ],
   "source": [
    "msg = 'HELLO'\n",
    "print(msg)"
   ]
  }
 ],
 "metadata": {
  "interpreter": {
   "hash": "42c78daf15aa3e8fbabba88ca06aa8a0acc8a0a0f1b3849ec43f0f7420201abb"
  },
  "kernelspec": {
   "display_name": "Python 3.8.12 64-bit ('Beam Analysis': conda)",
   "language": "python",
   "name": "python3"
  },
  "language_info": {
   "codemirror_mode": {
    "name": "ipython",
    "version": 3
   },
   "file_extension": ".py",
   "mimetype": "text/x-python",
   "name": "python",
   "nbconvert_exporter": "python",
   "pygments_lexer": "ipython3",
   "version": "3.8.12"
  },
  "orig_nbformat": 4
 },
 "nbformat": 4,
 "nbformat_minor": 2
}
